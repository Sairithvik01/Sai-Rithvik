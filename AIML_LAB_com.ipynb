{
  "nbformat": 4,
  "nbformat_minor": 0,
  "metadata": {
    "colab": {
      "provenance": [],
      "authorship_tag": "ABX9TyPnUByKCCfh0fYYozkorYuU",
      "include_colab_link": true
    },
    "kernelspec": {
      "name": "python3",
      "display_name": "Python 3"
    },
    "language_info": {
      "name": "python"
    }
  },
  "cells": [
    {
      "cell_type": "markdown",
      "metadata": {
        "id": "view-in-github",
        "colab_type": "text"
      },
      "source": [
        "<a href=\"https://colab.research.google.com/github/Sairithvik01/Sai-Rithvik/blob/main/AIML_LAB_com.ipynb\" target=\"_parent\"><img src=\"https://colab.research.google.com/assets/colab-badge.svg\" alt=\"Open In Colab\"/></a>"
      ]
    },
    {
      "cell_type": "code",
      "execution_count": 2,
      "metadata": {
        "colab": {
          "base_uri": "https://localhost:8080/"
        },
        "id": "dLp_yqDnuAC8",
        "outputId": "5129399d-0793-4f82-fe83-27fdde293bdd"
      },
      "outputs": [
        {
          "output_type": "stream",
          "name": "stdout",
          "text": [
            "<class 'list'>\n",
            "<class 'numpy.ndarray'>\n",
            "mulpication [ 2  6  8 10]\n",
            "division [0.5 1.5 2.  2.5]\n",
            "poweroff [ 1  9 16 25]\n",
            "addition of two array [ 4  7  9 11]\n"
          ]
        }
      ],
      "source": [
        "import numpy as np\n",
        "a=[1,3,4,5]\n",
        "a1=[3,4,5,6]\n",
        "b=np.array(a)\n",
        "b1=np.array(a1)\n",
        "print(type(a))\n",
        "print(type(b))\n",
        "#mulplication\n",
        "print(\"mulpication\",b*2)\n",
        "#division\n",
        "print(\"division\",b/2)\n",
        "#poweroff\n",
        "print(\"poweroff\",b**2)\n",
        "#addition\n",
        "print(\"addition of two array\",b+b1)"
      ]
    }
  ]
}